{
  "nbformat": 4,
  "nbformat_minor": 0,
  "metadata": {
    "colab": {
      "name": "Lesson5.ipynb",
      "version": "0.3.2",
      "provenance": [],
      "include_colab_link": true
    },
    "kernelspec": {
      "name": "python3",
      "display_name": "Python 3"
    }
  },
  "cells": [
    {
      "cell_type": "markdown",
      "metadata": {
        "id": "view-in-github",
        "colab_type": "text"
      },
      "source": [
        "[View in Colaboratory](https://colab.research.google.com/github/lapalb/100-days-of-code/blob/master/Lesson5.ipynb)"
      ]
    },
    {
      "metadata": {
        "id": "0vzwk-O4IqGU",
        "colab_type": "text"
      },
      "cell_type": "markdown",
      "source": [
        "SVM is used for **Linear and Non linear classificcation , Outlier detection and Regression.**\n",
        "It can't be used on **Large Dataset**"
      ]
    },
    {
      "metadata": {
        "id": "nV91zAGzJFyQ",
        "colab_type": "text"
      },
      "cell_type": "markdown",
      "source": [
        "SVM trues to **fit the widest double road in dataset** and the first point which touvh the edge of each road is called **Support Vector**"
      ]
    },
    {
      "metadata": {
        "id": "exJftqWlJYUp",
        "colab_type": "text"
      },
      "cell_type": "markdown",
      "source": [
        "SVM are affected by **Feature Scaling**"
      ]
    },
    {
      "metadata": {
        "id": "j3iMCfmcKFUR",
        "colab_type": "text"
      },
      "cell_type": "markdown",
      "source": [
        "\n",
        "**HardMargin Classifcation:** Nothing should come on road \n",
        "\n",
        "**SoftMargin Classification:** Tradeoff between keeping the road as wide as possible and prevent Margin violation"
      ]
    },
    {
      "metadata": {
        "id": "sl83U5DvK1fm",
        "colab_type": "text"
      },
      "cell_type": "markdown",
      "source": [
        "test"
      ]
    },
    {
      "metadata": {
        "id": "ut5_g2faacEs",
        "colab_type": "text"
      },
      "cell_type": "markdown",
      "source": [
        ""
      ]
    }
  ]
}